{
  "nbformat": 4,
  "nbformat_minor": 0,
  "metadata": {
    "colab": {
      "provenance": [],
      "include_colab_link": true
    },
    "kernelspec": {
      "name": "python3",
      "display_name": "Python 3"
    },
    "language_info": {
      "name": "python"
    }
  },
  "cells": [
    {
      "cell_type": "markdown",
      "metadata": {
        "id": "view-in-github",
        "colab_type": "text"
      },
      "source": [
        "<a href=\"https://colab.research.google.com/github/harqib/TP2-AI-Clustering-Algorithms/blob/main/tp2.ipynb\" target=\"_parent\"><img src=\"https://colab.research.google.com/assets/colab-badge.svg\" alt=\"Open In Colab\"/></a>"
      ]
    },
    {
      "cell_type": "markdown",
      "source": [
        "**Install necessary libraries**"
      ],
      "metadata": {
        "id": "yebXyDbVsWjC"
      }
    },
    {
      "cell_type": "code",
      "execution_count": null,
      "metadata": {
        "colab": {
          "base_uri": "https://localhost:8080/"
        },
        "collapsed": true,
        "id": "1JueIdexhw4m",
        "outputId": "0ca13612-85d2-4112-b7aa-6bc16e50fa05"
      },
      "outputs": [
        {
          "output_type": "stream",
          "name": "stdout",
          "text": [
            "Requirement already satisfied: gradio in /usr/local/lib/python3.10/dist-packages (5.6.0)\n",
            "Requirement already satisfied: scikit-learn in /usr/local/lib/python3.10/dist-packages (1.5.2)\n",
            "Requirement already satisfied: matplotlib in /usr/local/lib/python3.10/dist-packages (3.8.0)\n",
            "Requirement already satisfied: aiofiles<24.0,>=22.0 in /usr/local/lib/python3.10/dist-packages (from gradio) (23.2.1)\n",
            "Requirement already satisfied: anyio<5.0,>=3.0 in /usr/local/lib/python3.10/dist-packages (from gradio) (3.7.1)\n",
            "Requirement already satisfied: fastapi<1.0,>=0.115.2 in /usr/local/lib/python3.10/dist-packages (from gradio) (0.115.5)\n",
            "Requirement already satisfied: ffmpy in /usr/local/lib/python3.10/dist-packages (from gradio) (0.4.0)\n",
            "Requirement already satisfied: gradio-client==1.4.3 in /usr/local/lib/python3.10/dist-packages (from gradio) (1.4.3)\n",
            "Requirement already satisfied: httpx>=0.24.1 in /usr/local/lib/python3.10/dist-packages (from gradio) (0.27.2)\n",
            "Requirement already satisfied: huggingface-hub>=0.25.1 in /usr/local/lib/python3.10/dist-packages (from gradio) (0.26.2)\n",
            "Requirement already satisfied: jinja2<4.0 in /usr/local/lib/python3.10/dist-packages (from gradio) (3.1.4)\n",
            "Requirement already satisfied: markupsafe~=2.0 in /usr/local/lib/python3.10/dist-packages (from gradio) (2.1.5)\n",
            "Requirement already satisfied: numpy<3.0,>=1.0 in /usr/local/lib/python3.10/dist-packages (from gradio) (1.26.4)\n",
            "Requirement already satisfied: orjson~=3.0 in /usr/local/lib/python3.10/dist-packages (from gradio) (3.10.11)\n",
            "Requirement already satisfied: packaging in /usr/local/lib/python3.10/dist-packages (from gradio) (24.2)\n",
            "Requirement already satisfied: pandas<3.0,>=1.0 in /usr/local/lib/python3.10/dist-packages (from gradio) (2.2.2)\n",
            "Requirement already satisfied: pillow<12.0,>=8.0 in /usr/local/lib/python3.10/dist-packages (from gradio) (11.0.0)\n",
            "Requirement already satisfied: pydantic>=2.0 in /usr/local/lib/python3.10/dist-packages (from gradio) (2.9.2)\n",
            "Requirement already satisfied: pydub in /usr/local/lib/python3.10/dist-packages (from gradio) (0.25.1)\n",
            "Requirement already satisfied: python-multipart==0.0.12 in /usr/local/lib/python3.10/dist-packages (from gradio) (0.0.12)\n",
            "Requirement already satisfied: pyyaml<7.0,>=5.0 in /usr/local/lib/python3.10/dist-packages (from gradio) (6.0.2)\n",
            "Requirement already satisfied: ruff>=0.2.2 in /usr/local/lib/python3.10/dist-packages (from gradio) (0.8.0)\n",
            "Requirement already satisfied: safehttpx<1.0,>=0.1.1 in /usr/local/lib/python3.10/dist-packages (from gradio) (0.1.1)\n",
            "Requirement already satisfied: semantic-version~=2.0 in /usr/local/lib/python3.10/dist-packages (from gradio) (2.10.0)\n",
            "Requirement already satisfied: starlette<1.0,>=0.40.0 in /usr/local/lib/python3.10/dist-packages (from gradio) (0.41.3)\n",
            "Requirement already satisfied: tomlkit==0.12.0 in /usr/local/lib/python3.10/dist-packages (from gradio) (0.12.0)\n",
            "Requirement already satisfied: typer<1.0,>=0.12 in /usr/local/lib/python3.10/dist-packages (from gradio) (0.13.0)\n",
            "Requirement already satisfied: typing-extensions~=4.0 in /usr/local/lib/python3.10/dist-packages (from gradio) (4.12.2)\n",
            "Requirement already satisfied: uvicorn>=0.14.0 in /usr/local/lib/python3.10/dist-packages (from gradio) (0.32.1)\n",
            "Requirement already satisfied: fsspec in /usr/local/lib/python3.10/dist-packages (from gradio-client==1.4.3->gradio) (2024.10.0)\n",
            "Requirement already satisfied: websockets<13.0,>=10.0 in /usr/local/lib/python3.10/dist-packages (from gradio-client==1.4.3->gradio) (12.0)\n",
            "Requirement already satisfied: scipy>=1.6.0 in /usr/local/lib/python3.10/dist-packages (from scikit-learn) (1.13.1)\n",
            "Requirement already satisfied: joblib>=1.2.0 in /usr/local/lib/python3.10/dist-packages (from scikit-learn) (1.4.2)\n",
            "Requirement already satisfied: threadpoolctl>=3.1.0 in /usr/local/lib/python3.10/dist-packages (from scikit-learn) (3.5.0)\n",
            "Requirement already satisfied: contourpy>=1.0.1 in /usr/local/lib/python3.10/dist-packages (from matplotlib) (1.3.1)\n",
            "Requirement already satisfied: cycler>=0.10 in /usr/local/lib/python3.10/dist-packages (from matplotlib) (0.12.1)\n",
            "Requirement already satisfied: fonttools>=4.22.0 in /usr/local/lib/python3.10/dist-packages (from matplotlib) (4.55.0)\n",
            "Requirement already satisfied: kiwisolver>=1.0.1 in /usr/local/lib/python3.10/dist-packages (from matplotlib) (1.4.7)\n",
            "Requirement already satisfied: pyparsing>=2.3.1 in /usr/local/lib/python3.10/dist-packages (from matplotlib) (3.2.0)\n",
            "Requirement already satisfied: python-dateutil>=2.7 in /usr/local/lib/python3.10/dist-packages (from matplotlib) (2.8.2)\n",
            "Requirement already satisfied: idna>=2.8 in /usr/local/lib/python3.10/dist-packages (from anyio<5.0,>=3.0->gradio) (3.10)\n",
            "Requirement already satisfied: sniffio>=1.1 in /usr/local/lib/python3.10/dist-packages (from anyio<5.0,>=3.0->gradio) (1.3.1)\n",
            "Requirement already satisfied: exceptiongroup in /usr/local/lib/python3.10/dist-packages (from anyio<5.0,>=3.0->gradio) (1.2.2)\n",
            "Requirement already satisfied: certifi in /usr/local/lib/python3.10/dist-packages (from httpx>=0.24.1->gradio) (2024.8.30)\n",
            "Requirement already satisfied: httpcore==1.* in /usr/local/lib/python3.10/dist-packages (from httpx>=0.24.1->gradio) (1.0.7)\n",
            "Requirement already satisfied: h11<0.15,>=0.13 in /usr/local/lib/python3.10/dist-packages (from httpcore==1.*->httpx>=0.24.1->gradio) (0.14.0)\n",
            "Requirement already satisfied: filelock in /usr/local/lib/python3.10/dist-packages (from huggingface-hub>=0.25.1->gradio) (3.16.1)\n",
            "Requirement already satisfied: requests in /usr/local/lib/python3.10/dist-packages (from huggingface-hub>=0.25.1->gradio) (2.32.3)\n",
            "Requirement already satisfied: tqdm>=4.42.1 in /usr/local/lib/python3.10/dist-packages (from huggingface-hub>=0.25.1->gradio) (4.66.6)\n",
            "Requirement already satisfied: pytz>=2020.1 in /usr/local/lib/python3.10/dist-packages (from pandas<3.0,>=1.0->gradio) (2024.2)\n",
            "Requirement already satisfied: tzdata>=2022.7 in /usr/local/lib/python3.10/dist-packages (from pandas<3.0,>=1.0->gradio) (2024.2)\n",
            "Requirement already satisfied: annotated-types>=0.6.0 in /usr/local/lib/python3.10/dist-packages (from pydantic>=2.0->gradio) (0.7.0)\n",
            "Requirement already satisfied: pydantic-core==2.23.4 in /usr/local/lib/python3.10/dist-packages (from pydantic>=2.0->gradio) (2.23.4)\n",
            "Requirement already satisfied: six>=1.5 in /usr/local/lib/python3.10/dist-packages (from python-dateutil>=2.7->matplotlib) (1.16.0)\n",
            "Requirement already satisfied: click>=8.0.0 in /usr/local/lib/python3.10/dist-packages (from typer<1.0,>=0.12->gradio) (8.1.7)\n",
            "Requirement already satisfied: shellingham>=1.3.0 in /usr/local/lib/python3.10/dist-packages (from typer<1.0,>=0.12->gradio) (1.5.4)\n",
            "Requirement already satisfied: rich>=10.11.0 in /usr/local/lib/python3.10/dist-packages (from typer<1.0,>=0.12->gradio) (13.9.4)\n",
            "Requirement already satisfied: markdown-it-py>=2.2.0 in /usr/local/lib/python3.10/dist-packages (from rich>=10.11.0->typer<1.0,>=0.12->gradio) (3.0.0)\n",
            "Requirement already satisfied: pygments<3.0.0,>=2.13.0 in /usr/local/lib/python3.10/dist-packages (from rich>=10.11.0->typer<1.0,>=0.12->gradio) (2.18.0)\n",
            "Requirement already satisfied: charset-normalizer<4,>=2 in /usr/local/lib/python3.10/dist-packages (from requests->huggingface-hub>=0.25.1->gradio) (3.4.0)\n",
            "Requirement already satisfied: urllib3<3,>=1.21.1 in /usr/local/lib/python3.10/dist-packages (from requests->huggingface-hub>=0.25.1->gradio) (2.2.3)\n",
            "Requirement already satisfied: mdurl~=0.1 in /usr/local/lib/python3.10/dist-packages (from markdown-it-py>=2.2.0->rich>=10.11.0->typer<1.0,>=0.12->gradio) (0.1.2)\n"
          ]
        }
      ],
      "source": [
        "!pip install gradio scikit-learn matplotlib"
      ]
    },
    {
      "cell_type": "markdown",
      "source": [
        "**Import libraries**"
      ],
      "metadata": {
        "id": "GqHLtVg1soGB"
      }
    },
    {
      "cell_type": "code",
      "source": [
        "import gradio as gr\n",
        "from sklearn.datasets import load_digits, fetch_openml, load_iris, load_diabetes\n",
        "from sklearn.model_selection import train_test_split\n",
        "from sklearn.preprocessing import StandardScaler\n",
        "from sklearn.tree import DecisionTreeClassifier, plot_tree\n",
        "from sklearn.svm import SVC\n",
        "from sklearn.cluster import KMeans\n",
        "from sklearn.naive_bayes import MultinomialNB\n",
        "from sklearn.feature_extraction.text import CountVectorizer\n",
        "from sklearn.metrics import confusion_matrix, accuracy_score\n",
        "import matplotlib.pyplot as plt\n",
        "from sklearn.neighbors import KNeighborsClassifier\n",
        "import pandas as pd\n",
        "import numpy as np"
      ],
      "metadata": {
        "id": "yVKRC1a-sdet"
      },
      "execution_count": null,
      "outputs": []
    },
    {
      "cell_type": "markdown",
      "source": [
        "**Function to display the plots**"
      ],
      "metadata": {
        "id": "qd3V2_Srstbd"
      }
    },
    {
      "cell_type": "code",
      "source": [
        "def show_plot():\n",
        "    plt.show(block=False)\n",
        "    plt.pause(1)\n",
        "    plt.close()"
      ],
      "metadata": {
        "id": "97cXoT9Es1oO"
      },
      "execution_count": null,
      "outputs": []
    },
    {
      "cell_type": "markdown",
      "source": [
        "**Etape 1:** K-Neares Neighbors (KNN)"
      ],
      "metadata": {
        "id": "MLAsc6_ls1No"
      }
    },
    {
      "cell_type": "code",
      "source": [
        "\n",
        "# K-Nearest Neighbors (KNN)\n",
        "def knn_steps():\n",
        "    digits = load_digits()\n",
        "    X = digits.data\n",
        "    y = digits.target\n",
        "\n",
        "    X_train, X_test, y_train, y_test = train_test_split(X, y, test_size=0.3, random_state=42)\n",
        "\n",
        "    # Visualize Sample Digits\n",
        "    fig1, axes1 = plt.subplots(1, 5, figsize=(10, 3))\n",
        "    for ax, img, label in zip(axes1, digits.images[:5], digits.target[:5]):\n",
        "        ax.set_axis_off()\n",
        "        ax.imshow(img, cmap=plt.cm.gray_r, interpolation=\"nearest\")\n",
        "        ax.set_title(f\"Label: {label}\")\n",
        "    plt.tight_layout()\n",
        "\n",
        "    # Train KNN for predefined K values\n",
        "    k_values = [1, 3, 5, 7, 9]\n",
        "    accuracies = []\n",
        "    results = []\n",
        "\n",
        "    for k_val in k_values:\n",
        "        knn = KNeighborsClassifier(n_neighbors=k_val)\n",
        "        knn.fit(X_train, y_train)\n",
        "        y_pred = knn.predict(X_test)\n",
        "        acc = accuracy_score(y_test, y_pred)\n",
        "        accuracies.append(acc)\n",
        "        results.append({\"K\": k_val, \"Accuracy\": acc})\n",
        "\n",
        "    # Create a DataFrame for results\n",
        "    results_df = pd.DataFrame(results)\n",
        "\n",
        "    # Best K\n",
        "    best_k = k_values[accuracies.index(max(accuracies))]\n",
        "\n",
        "    # Confusion Matrix for Best K\n",
        "    knn_best = KNeighborsClassifier(n_neighbors=best_k)\n",
        "    knn_best.fit(X_train, y_train)\n",
        "    y_pred_best = knn_best.predict(X_test)\n",
        "    conf_matrix = confusion_matrix(y_test, y_pred_best)\n",
        "\n",
        "    # Plot Accuracy vs K\n",
        "    fig2 = plt.figure()\n",
        "    plt.plot(k_values, accuracies, marker=\"o\", color=\"blue\")\n",
        "    plt.title(\"Accuracy vs K\")\n",
        "    plt.xlabel(\"K\")\n",
        "    plt.ylabel(\"Accuracy\")\n",
        "    plt.grid()\n",
        "\n",
        "    return fig1, fig2, results_df, conf_matrix"
      ],
      "metadata": {
        "id": "cbm0tQ10tEH1"
      },
      "execution_count": null,
      "outputs": []
    },
    {
      "cell_type": "markdown",
      "source": [
        "**Etape 2:** Arbre de decision"
      ],
      "metadata": {
        "id": "QmyerT6EsdKc"
      }
    },
    {
      "cell_type": "code",
      "source": [
        "# Decision Tree\n",
        "def decision_tree_steps():\n",
        "    adult = fetch_openml(data_id=1590, as_frame=True)\n",
        "    X = adult.data.select_dtypes(include=[np.number]).dropna(axis=1)\n",
        "    y = (adult.target == \">50K\").astype(int)\n",
        "\n",
        "    X_train, X_test, y_train, y_test = train_test_split(X, y, test_size=0.3, random_state=42)\n",
        "\n",
        "    # Train Decision Tree with different depths\n",
        "    depths = [3, 6, 9, 12, 15, 18, 20]\n",
        "    accuracies = []\n",
        "    results = []\n",
        "\n",
        "    for depth in depths:\n",
        "        tree = DecisionTreeClassifier(max_depth=depth, random_state=42)\n",
        "        tree.fit(X_train, y_train)\n",
        "        y_pred = tree.predict(X_test)\n",
        "        acc = accuracy_score(y_test, y_pred)\n",
        "        accuracies.append(acc)\n",
        "        results.append({\"Depth\": depth, \"Accuracy\": acc})\n",
        "\n",
        "    # Create a DataFrame for results\n",
        "    results_df = pd.DataFrame(results)\n",
        "\n",
        "    # Visualize Tree at Depth 3\n",
        "    fig1 = plt.figure(figsize=(20, 10))\n",
        "    tree = DecisionTreeClassifier(max_depth=3, random_state=42)\n",
        "    tree.fit(X_train, y_train)\n",
        "    plot_tree(tree, filled=True)\n",
        "    plt.tight_layout()\n",
        "\n",
        "    # Plot Accuracy vs Depth\n",
        "    fig2 = plt.figure()\n",
        "    plt.plot(depths, accuracies, marker=\"o\", color=\"green\")\n",
        "    plt.title(\"Accuracy vs Tree Depth\")\n",
        "    plt.xlabel(\"Depth\")\n",
        "    plt.ylabel(\"Accuracy\")\n",
        "    plt.grid()\n",
        "\n",
        "    return fig1, fig2, results_df\n",
        "\n"
      ],
      "metadata": {
        "id": "AoBoIj1EtSfy"
      },
      "execution_count": null,
      "outputs": []
    },
    {
      "cell_type": "markdown",
      "source": [
        "**Etape 3:** SVM"
      ],
      "metadata": {
        "id": "IgZKNaOWtcoN"
      }
    },
    {
      "cell_type": "code",
      "source": [
        "\n",
        "# Support Vector Machine (SVM)\n",
        "def svm_steps():\n",
        "    diabetes = load_diabetes()\n",
        "    X = diabetes.data[:, :2]\n",
        "    y = (diabetes.target > np.median(diabetes.target)).astype(int)\n",
        "\n",
        "    X_train, X_test, y_train, y_test = train_test_split(X, y, test_size=0.3, random_state=42)\n",
        "\n",
        "    scaler = StandardScaler()\n",
        "    X_train = scaler.fit_transform(X_train)\n",
        "    X_test = scaler.transform(X_test)\n",
        "\n",
        "    # Train SVM with different kernels\n",
        "    kernels = [\"linear\", \"poly\", \"rbf\"]\n",
        "    accuracies = []\n",
        "    results = []\n",
        "\n",
        "    for kernel in kernels:\n",
        "        svm = SVC(kernel=kernel)\n",
        "        svm.fit(X_train, y_train)\n",
        "        y_pred = svm.predict(X_test)\n",
        "        acc = accuracy_score(y_test, y_pred)\n",
        "        accuracies.append(acc)\n",
        "        results.append({\"Kernel\": kernel, \"Accuracy\": acc})\n",
        "\n",
        "    results_df = pd.DataFrame(results)\n",
        "\n",
        "    return results_df\n"
      ],
      "metadata": {
        "id": "LlJEsyfhtgAQ"
      },
      "execution_count": null,
      "outputs": []
    },
    {
      "cell_type": "code",
      "source": [
        "\n",
        "# Naive Bayes\n",
        "def naive_bayes_steps():\n",
        "    categories = [\"sci.space\", \"rec.autos\"]\n",
        "    from sklearn.datasets import fetch_20newsgroups\n",
        "    news = fetch_20newsgroups(subset=\"train\", categories=categories)\n",
        "    vectorizer = CountVectorizer()\n",
        "    X = vectorizer.fit_transform(news.data)\n",
        "    y = news.target\n",
        "\n",
        "    X_train, X_test, y_train, y_test = train_test_split(X, y, test_size=0.3, random_state=42)\n",
        "\n",
        "    nb = MultinomialNB()\n",
        "    nb.fit(X_train, y_train)\n",
        "    y_pred = nb.predict(X_test)\n",
        "    acc = accuracy_score(y_test, y_pred)\n",
        "\n",
        "    return f\"Accuracy: {acc:.2f}\"\n",
        "\n"
      ],
      "metadata": {
        "id": "bJ9piB-s27yK"
      },
      "execution_count": null,
      "outputs": []
    },
    {
      "cell_type": "markdown",
      "source": [
        "**Etape 4:** K-Means"
      ],
      "metadata": {
        "id": "-xvV4DowtpL1"
      }
    },
    {
      "cell_type": "code",
      "source": [
        "\n",
        "# K-Means\n",
        "def kmeans_steps():\n",
        "    iris = load_iris()\n",
        "    X = iris.data\n",
        "\n",
        "    k_values = [2, 3, 4, 5, 6, 7, 8, 9]\n",
        "    inertias = []\n",
        "    results = []\n",
        "\n",
        "    for k in k_values:\n",
        "        kmeans = KMeans(n_clusters=k, random_state=42)\n",
        "        kmeans.fit(X)\n",
        "        inertias.append(kmeans.inertia_)\n",
        "        results.append({\"K\": k, \"Inertia\": kmeans.inertia_})\n",
        "\n",
        "    results_df = pd.DataFrame(results)\n",
        "\n",
        "    fig = plt.figure()\n",
        "    plt.plot(k_values, inertias, marker=\"o\", color=\"purple\")\n",
        "    plt.title(\"Inertia vs K\")\n",
        "    plt.xlabel(\"K\")\n",
        "    plt.ylabel(\"Inertia\")\n",
        "    plt.grid()\n",
        "\n",
        "    return fig, results_df\n",
        "\n"
      ],
      "metadata": {
        "id": "nhrv49RCtlbU"
      },
      "execution_count": null,
      "outputs": []
    },
    {
      "cell_type": "markdown",
      "source": [
        "**Gradio interface**"
      ],
      "metadata": {
        "id": "3Vo_BLdot3PA"
      }
    },
    {
      "cell_type": "code",
      "source": [
        "# Gradio Interface\n",
        "with gr.Blocks(theme=\"light\")  as demo:\n",
        "    # KNN Tab\n",
        "    with gr.Tab(\"K-Nearest Neighbors\"):\n",
        "        gr.Markdown(\"## K-Nearest Neighbors\\nClassification algorithm that uses proximity to classify points based on their neighbors.\")\n",
        "        knn_button = gr.Button(\"Run KNN Steps\")\n",
        "        knn_plot_digits = gr.Plot(label=\"Sample Digits\")\n",
        "        knn_plot_accuracy = gr.Plot(label=\"Accuracy vs K\")\n",
        "        knn_results_table = gr.Dataframe(label=\"Accuracy for Different K\", headers=[\"K\", \"Accuracy\"])\n",
        "        knn_conf_matrix = gr.Textbox(label=\"Confusion Matrix\")\n",
        "\n",
        "        knn_button.click(\n",
        "            knn_steps,\n",
        "            inputs=[],\n",
        "            outputs=[knn_plot_digits, knn_plot_accuracy, knn_results_table, knn_conf_matrix],\n",
        "        )\n",
        "\n",
        "    # Decision Tree Tab\n",
        "    with gr.Tab(\"Decision Tree\"):\n",
        "        gr.Markdown(\"## Decision Tree\\nTree-structured model for classification tasks.\")\n",
        "        dt_button = gr.Button(\"Run Decision Tree Steps\")\n",
        "        dt_plot_tree = gr.Plot(label=\"Tree Visualization (Depth 3)\")\n",
        "        dt_plot_accuracy = gr.Plot(label=\"Accuracy vs Depth\")\n",
        "        dt_results_table = gr.Dataframe(label=\"Accuracy for Different Depths\", headers=[\"Depth\", \"Accuracy\"])\n",
        "\n",
        "        dt_button.click(\n",
        "            decision_tree_steps,\n",
        "            inputs=[],\n",
        "            outputs=[dt_plot_tree, dt_plot_accuracy, dt_results_table],\n",
        "        )\n",
        "\n",
        "    # SVM Tab\n",
        "    with gr.Tab(\"Support Vector Machine\"):\n",
        "        gr.Markdown(\"## Support Vector Machine\\nClassification using hyperplanes.\")\n",
        "        svm_button = gr.Button(\"Run SVM Steps\")\n",
        "        svm_results_table = gr.Dataframe(label=\"Accuracy for Different Kernels\", headers=[\"Kernel\", \"Accuracy\"])\n",
        "\n",
        "        svm_button.click(svm_steps, inputs=[], outputs=[svm_results_table])\n",
        "\n",
        "    # Naive Bayes Tab\n",
        "    with gr.Tab(\"Naive Bayes\"):\n",
        "        gr.Markdown(\"## Naive Bayes\\nClassification for text data using probabilistic modeling.\")\n",
        "        nb_button = gr.Button(\"Run Naive Bayes Steps\")\n",
        "        nb_results = gr.Textbox(label=\"Accuracy\")\n",
        "\n",
        "        nb_button.click(naive_bayes_steps, inputs=[], outputs=[nb_results])\n",
        "\n",
        "    # K-Means Tab\n",
        "    with gr.Tab(\"K-Means Clustering\"):\n",
        "        gr.Markdown(\"## K-Means Clustering\\nUnsupervised clustering of data.\")\n",
        "        km_button = gr.Button(\"Run K-Means Steps\")\n",
        "        km_plot_inertia = gr.Plot(label=\"Inertia vs K\")\n",
        "        km_results_table = gr.Dataframe(label=\"Inertia for Different K\", headers=[\"K\", \"Inertia\"])\n",
        "\n",
        "        km_button.click(kmeans_steps, inputs=[], outputs=[km_plot_inertia, km_results_table])\n",
        "\n",
        "# Launch the App\n",
        "demo.launch(share=True)"
      ],
      "metadata": {
        "colab": {
          "base_uri": "https://localhost:8080/",
          "height": 680
        },
        "id": "00FxxzVgtyzA",
        "outputId": "9b597b67-a8cd-4e89-cd92-d78400ff2a03"
      },
      "execution_count": null,
      "outputs": [
        {
          "output_type": "stream",
          "name": "stderr",
          "text": [
            "/usr/local/lib/python3.10/dist-packages/gradio/blocks.py:1020: UserWarning: Cannot load light. Caught Exception: 404 Client Error: Not Found for url: https://huggingface.co/api/spaces/light (Request ID: Root=1-67439e7f-79afdada53a43e5a5ed7465b;a2357e54-031c-454c-86b5-e48f3d243d69)\n",
            "\n",
            "Sorry, we can't find the page you are looking for.\n",
            "  warnings.warn(f\"Cannot load {theme}. Caught Exception: {str(e)}\")\n"
          ]
        },
        {
          "output_type": "stream",
          "name": "stdout",
          "text": [
            "Colab notebook detected. To show errors in colab notebook, set debug=True in launch()\n",
            "* Running on public URL: https://0ba805e06289cfe3ee.gradio.live\n",
            "\n",
            "This share link expires in 72 hours. For free permanent hosting and GPU upgrades, run `gradio deploy` from the terminal in the working directory to deploy to Hugging Face Spaces (https://huggingface.co/spaces)\n"
          ]
        },
        {
          "output_type": "display_data",
          "data": {
            "text/plain": [
              "<IPython.core.display.HTML object>"
            ],
            "text/html": [
              "<div><iframe src=\"https://0ba805e06289cfe3ee.gradio.live\" width=\"100%\" height=\"500\" allow=\"autoplay; camera; microphone; clipboard-read; clipboard-write;\" frameborder=\"0\" allowfullscreen></iframe></div>"
            ]
          },
          "metadata": {}
        },
        {
          "output_type": "execute_result",
          "data": {
            "text/plain": []
          },
          "metadata": {},
          "execution_count": 13
        }
      ]
    }
  ]
}